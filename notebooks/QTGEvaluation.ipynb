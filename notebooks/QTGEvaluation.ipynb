{
 "cells": [
  {
   "cell_type": "code",
   "execution_count": 1,
   "metadata": {},
   "outputs": [
    {
     "ename": "ImportError",
     "evalue": "/home/luise/Bachelorarbeit/networkit/_NetworKit.cpython-35m-x86_64-linux-gnu.so: undefined symbol: _ZNK9NetworKit31QuasiThresholdEditingLocalMover8getCoverEm",
     "output_type": "error",
     "traceback": [
      "\u001b[0;31m---------------------------------------------------------------------------\u001b[0m",
      "\u001b[0;31mImportError\u001b[0m                               Traceback (most recent call last)",
      "\u001b[0;32m<ipython-input-1-56d19d375d1f>\u001b[0m in \u001b[0;36m<module>\u001b[0;34m\u001b[0m\n\u001b[1;32m      1\u001b[0m \u001b[0mget_ipython\u001b[0m\u001b[0;34m(\u001b[0m\u001b[0;34m)\u001b[0m\u001b[0;34m.\u001b[0m\u001b[0mrun_line_magic\u001b[0m\u001b[0;34m(\u001b[0m\u001b[0;34m'matplotlib'\u001b[0m\u001b[0;34m,\u001b[0m \u001b[0;34m'inline'\u001b[0m\u001b[0;34m)\u001b[0m\u001b[0;34m\u001b[0m\u001b[0m\n\u001b[1;32m      2\u001b[0m \u001b[0;32mimport\u001b[0m \u001b[0mmatplotlib\u001b[0m\u001b[0;34m.\u001b[0m\u001b[0mpyplot\u001b[0m \u001b[0;32mas\u001b[0m \u001b[0mplt\u001b[0m\u001b[0;34m\u001b[0m\u001b[0m\n\u001b[0;32m----> 3\u001b[0;31m \u001b[0;32mimport\u001b[0m \u001b[0mnetworkit\u001b[0m \u001b[0;32mas\u001b[0m \u001b[0mnk\u001b[0m\u001b[0;34m\u001b[0m\u001b[0m\n\u001b[0m\u001b[1;32m      4\u001b[0m \u001b[0;32mimport\u001b[0m \u001b[0mcollections\u001b[0m\u001b[0;34m\u001b[0m\u001b[0m\n\u001b[1;32m      5\u001b[0m \u001b[0;32mimport\u001b[0m \u001b[0mos\u001b[0m\u001b[0;34m\u001b[0m\u001b[0m\n",
      "\u001b[0;32m~/Bachelorarbeit/networkit/networkit/__init__.py\u001b[0m in \u001b[0;36m<module>\u001b[0;34m\u001b[0m\n\u001b[1;32m     48\u001b[0m \u001b[0;31m# local imports\u001b[0m\u001b[0;34m\u001b[0m\u001b[0;34m\u001b[0m\u001b[0m\n\u001b[1;32m     49\u001b[0m \u001b[0;32mfrom\u001b[0m \u001b[0;34m.\u001b[0m \u001b[0;32mimport\u001b[0m \u001b[0mstopwatch\u001b[0m\u001b[0;34m\u001b[0m\u001b[0m\n\u001b[0;32m---> 50\u001b[0;31m \u001b[0;32mfrom\u001b[0m \u001b[0;34m.\u001b[0m \u001b[0;32mimport\u001b[0m \u001b[0mgraph\u001b[0m\u001b[0;34m\u001b[0m\u001b[0m\n\u001b[0m\u001b[1;32m     51\u001b[0m \u001b[0;32mfrom\u001b[0m \u001b[0;34m.\u001b[0m \u001b[0;32mimport\u001b[0m \u001b[0mgraphio\u001b[0m\u001b[0;34m\u001b[0m\u001b[0m\n\u001b[1;32m     52\u001b[0m \u001b[0;32mfrom\u001b[0m \u001b[0;34m.\u001b[0m \u001b[0;32mimport\u001b[0m \u001b[0mcommunity\u001b[0m\u001b[0;34m\u001b[0m\u001b[0m\n",
      "\u001b[0;32m~/Bachelorarbeit/networkit/networkit/graph.py\u001b[0m in \u001b[0;36m<module>\u001b[0;34m\u001b[0m\n\u001b[1;32m      1\u001b[0m \u001b[0;31m# extension imports\u001b[0m\u001b[0;34m\u001b[0m\u001b[0;34m\u001b[0m\u001b[0m\n\u001b[0;32m----> 2\u001b[0;31m \u001b[0;32mfrom\u001b[0m \u001b[0m_NetworKit\u001b[0m \u001b[0;32mimport\u001b[0m \u001b[0mGraph\u001b[0m\u001b[0;34m,\u001b[0m \u001b[0mSpanningForest\u001b[0m\u001b[0;34m,\u001b[0m \u001b[0mRandomMaximumSpanningForest\u001b[0m\u001b[0;34m,\u001b[0m \u001b[0mUnionMaximumSpanningForest\u001b[0m\u001b[0;34m,\u001b[0m \u001b[0mTraversal\u001b[0m\u001b[0;34m\u001b[0m\u001b[0m\n\u001b[0m",
      "\u001b[0;31mImportError\u001b[0m: /home/luise/Bachelorarbeit/networkit/_NetworKit.cpython-35m-x86_64-linux-gnu.so: undefined symbol: _ZNK9NetworKit31QuasiThresholdEditingLocalMover8getCoverEm"
     ]
    }
   ],
   "source": [
    "%matplotlib inline\n",
    "import matplotlib.pyplot as plt\n",
    "import networkit as nk\n",
    "import collections\n",
    "import os\n",
    "seed = 0\n",
    "graph_name = \"karate\"\n",
    "output_path = \"../output/QTM/\"\n",
    "input_path = \"../input/\"\n",
    "graph_path = input_path + graph_name + \".graph\"\n",
    "result_path = output_path + graph_name + \".txt\"\n",
    "if not os.path.exists(output_path):\n",
    "    os.makedirs(output_path)\n",
    "result_file = open(result_path,\"w+\")\n",
    "\n",
    "nk.setSeed(seed, False)\n",
    "result_file.write(\"Using seed \" + str(seed) + \"\\n\")\n",
    "\n",
    "G = nk.readGraph(graph_path, nk.Format.METIS)\n",
    "nk.viztasks.drawGraph(G)\n",
    "G.indexEdges()\n",
    "editing = nk.community.QuasiThresholdEditingLinear(G)\n",
    "editing.run()\n",
    "parents = []\n",
    "parentNames = []\n",
    "parents.append([i for i in range(G.upperNodeIdBound())])\n",
    "parentNames.append(\"Trivial\")\n",
    "parents.append(editing.getParents())\n",
    "parentNames.append(\"Editing\")\n",
    "\n",
    "orders = []\n",
    "orderNames = []\n",
    "orders.append([])\n",
    "orderNames.append(\"None\")\n",
    "orders.append([i for i in range(G.upperNodeIdBound())])\n",
    "orderNames.append(\"By id\")\n",
    "\n",
    "degree_dict = {}\n",
    "for u in G.iterNodes():\n",
    "    degree_dict[u] = G.degree(u)\n",
    "orders.append([el[0] for el in sorted(degree_dict.items(), key=lambda kv: kv[1])])\n",
    "orderNames.append(\"Degree ascending\")\n",
    "\n",
    "runs = [0, 2, 5, 20]\n",
    "plateaus = [1, 5, 10]\n",
    "\n",
    "\n",
    "for i in range(len(parents)):\n",
    "    for j in range(len(orders)):\n",
    "        if(i > 0 and j > 0): \n",
    "            break\n",
    "        for run in runs:\n",
    "            sortPaths = False\n",
    "            for k in range(2):\n",
    "                randomness = True\n",
    "                for l in range(2):\n",
    "                    if(randomness):\n",
    "                        for plateau in plateaus:\n",
    "                            mover = nk.community.QuasiThresholdEditingLocalMover(G, parents[i], run, sortPaths, randomness, orders[j], plateau)\n",
    "                            mover.run()\n",
    "                            result_file.write(\"Parents: \" + parent_names[i])\n",
    "                            result_file.write(\", Order: \"+ order_names[j])\n",
    "                            result_file.write(\", Runs: \"+ str(run))\n",
    "                            result_file.write(\", sortPaths: \", str(sortPaths))\n",
    "                            result_file.write(\", randomness: \", str(randomness))\n",
    "                            result_file.write(\", plateauSize: \", str(plateau))\n",
    "                            result_file.write(\"----- Edits: \", str(mover.getNumberOfEdits())),\n",
    "                            result_file.write(\" used \", str(mover.getUsedIterations()))\n",
    "                            #result_file.write(\" actualPlateau \", str(mover.getPlateauSize()))\n",
    "                            result_file.write(\"\\n\")\n",
    "                    else:\n",
    "                        mover = nk.community.QuasiThresholdEditingLocalMover(G, parents[i], run, sortPaths, randomness, orders[j], plateau)\n",
    "                        mover.run()\n",
    "                        result_file.write(\"Parents: \" + parent_names[i])\n",
    "                        result_file.write(\", Order: \"+ order_names[j])\n",
    "                        result_file.write(\", Runs: \"+ str(run))\n",
    "                        result_file.write(\", sortPaths: \", str(sortPaths))\n",
    "                        result_file.write(\", randomness: \", str(randomness))\n",
    "                        result_file.write(\"----- Edits: \", str(mover.getNumberOfEdits())),\n",
    "                        result_file.write(\" used \", str(mover.getUsedIterations()))\n",
    "                        result_file.write(\"\\n\")\n",
    "                            \n",
    "result_file.close()"
   ]
  },
  {
   "cell_type": "code",
   "execution_count": null,
   "metadata": {},
   "outputs": [],
   "source": [
    "\n"
   ]
  }
 ],
 "metadata": {
  "kernelspec": {
   "display_name": "Python 3",
   "language": "python",
   "name": "python3"
  },
  "language_info": {
   "codemirror_mode": {
    "name": "ipython",
    "version": 3
   },
   "file_extension": ".py",
   "mimetype": "text/x-python",
   "name": "python",
   "nbconvert_exporter": "python",
   "pygments_lexer": "ipython3",
   "version": "3.5.2"
  }
 },
 "nbformat": 4,
 "nbformat_minor": 4
}
